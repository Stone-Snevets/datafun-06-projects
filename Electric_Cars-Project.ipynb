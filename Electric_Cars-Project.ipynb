{
 "cells": [
  {
   "cell_type": "markdown",
   "metadata": {},
   "source": [
    "# Electric Cars: Exploratory Data Project\n",
    "Written by [Solomon Stevens](https://github.com/Stone-Snevets/datafun-06-projects)\n",
    "\n",
    "Date: September 29, 2023"
   ]
  },
  {
   "cell_type": "markdown",
   "metadata": {},
   "source": [
    "### Section 1: Load"
   ]
  },
  {
   "cell_type": "code",
   "execution_count": 59,
   "metadata": {},
   "outputs": [],
   "source": [
    "# Read data into a pandas DataFrame\n",
    "\n",
    "#-> Imports\n",
    "import pandas as pd\n",
    "import re           # for Section 7\n",
    "\n",
    "#-> Read in file\n",
    "evs = pd.read_csv('Quickestelectriccars-EVDatabase.csv')"
   ]
  },
  {
   "cell_type": "markdown",
   "metadata": {},
   "source": [
    "### Section 2: View"
   ]
  },
  {
   "cell_type": "code",
   "execution_count": 60,
   "metadata": {},
   "outputs": [
    {
     "data": {
      "text/html": [
       "<div>\n",
       "<style scoped>\n",
       "    .dataframe tbody tr th:only-of-type {\n",
       "        vertical-align: middle;\n",
       "    }\n",
       "\n",
       "    .dataframe tbody tr th {\n",
       "        vertical-align: top;\n",
       "    }\n",
       "\n",
       "    .dataframe thead th {\n",
       "        text-align: right;\n",
       "    }\n",
       "</style>\n",
       "<table border=\"1\" class=\"dataframe\">\n",
       "  <thead>\n",
       "    <tr style=\"text-align: right;\">\n",
       "      <th></th>\n",
       "      <th>Name</th>\n",
       "      <th>Subtitle</th>\n",
       "      <th>Acceleration</th>\n",
       "      <th>TopSpeed</th>\n",
       "      <th>Range</th>\n",
       "      <th>Efficiency</th>\n",
       "      <th>FastChargeSpeed</th>\n",
       "      <th>Drive</th>\n",
       "      <th>NumberofSeats</th>\n",
       "      <th>PriceinGermany</th>\n",
       "      <th>PriceinUK</th>\n",
       "    </tr>\n",
       "  </thead>\n",
       "  <tbody>\n",
       "    <tr>\n",
       "      <th>0</th>\n",
       "      <td>Tesla Roadster</td>\n",
       "      <td>Battery Electric Vehicle |       200 kWh</td>\n",
       "      <td>2.1 sec</td>\n",
       "      <td>410 km/h</td>\n",
       "      <td>970 km</td>\n",
       "      <td>206 Wh/km</td>\n",
       "      <td>920 km/h</td>\n",
       "      <td>All Wheel Drive</td>\n",
       "      <td>4</td>\n",
       "      <td>€215,000</td>\n",
       "      <td>£189,000</td>\n",
       "    </tr>\n",
       "    <tr>\n",
       "      <th>1</th>\n",
       "      <td>Tesla Model X Plaid</td>\n",
       "      <td>Battery Electric Vehicle |       90 kWh</td>\n",
       "      <td>2.6 sec</td>\n",
       "      <td>262 km/h</td>\n",
       "      <td>455 km</td>\n",
       "      <td>198 Wh/km</td>\n",
       "      <td>680 km/h</td>\n",
       "      <td>All Wheel Drive</td>\n",
       "      <td>7</td>\n",
       "      <td>€116,990</td>\n",
       "      <td>£110,980</td>\n",
       "    </tr>\n",
       "    <tr>\n",
       "      <th>2</th>\n",
       "      <td>Porsche Taycan Turbo S</td>\n",
       "      <td>Battery Electric Vehicle |       83.7 kWh</td>\n",
       "      <td>2.8 sec</td>\n",
       "      <td>260 km/h</td>\n",
       "      <td>390 km</td>\n",
       "      <td>215 Wh/km</td>\n",
       "      <td>860 km/h</td>\n",
       "      <td>All Wheel Drive</td>\n",
       "      <td>4</td>\n",
       "      <td>€186,336</td>\n",
       "      <td>£138,830</td>\n",
       "    </tr>\n",
       "    <tr>\n",
       "      <th>3</th>\n",
       "      <td>Porsche Taycan Turbo S Cross Turismo</td>\n",
       "      <td>Battery Electric Vehicle |       83.7 kWh</td>\n",
       "      <td>2.9 sec</td>\n",
       "      <td>250 km/h</td>\n",
       "      <td>380 km</td>\n",
       "      <td>220 Wh/km</td>\n",
       "      <td>790 km/h</td>\n",
       "      <td>All Wheel Drive</td>\n",
       "      <td>4</td>\n",
       "      <td>€187,746</td>\n",
       "      <td>£139,910</td>\n",
       "    </tr>\n",
       "    <tr>\n",
       "      <th>4</th>\n",
       "      <td>Tesla Cybertruck Tri Motor</td>\n",
       "      <td>Battery Electric Vehicle |       200 kWh</td>\n",
       "      <td>3.0 sec</td>\n",
       "      <td>210 km/h</td>\n",
       "      <td>750 km</td>\n",
       "      <td>267 Wh/km</td>\n",
       "      <td>710 km/h</td>\n",
       "      <td>All Wheel Drive</td>\n",
       "      <td>7</td>\n",
       "      <td>€75,000</td>\n",
       "      <td>£68,000</td>\n",
       "    </tr>\n",
       "  </tbody>\n",
       "</table>\n",
       "</div>"
      ],
      "text/plain": [
       "                                   Name  \\\n",
       "0                       Tesla Roadster    \n",
       "1                   Tesla Model X Plaid   \n",
       "2                Porsche Taycan Turbo S   \n",
       "3  Porsche Taycan Turbo S Cross Turismo   \n",
       "4            Tesla Cybertruck Tri Motor   \n",
       "\n",
       "                                    Subtitle Acceleration  TopSpeed   Range  \\\n",
       "0  Battery Electric Vehicle |       200 kWh       2.1 sec  410 km/h  970 km   \n",
       "1   Battery Electric Vehicle |       90 kWh       2.6 sec  262 km/h  455 km   \n",
       "2  Battery Electric Vehicle |       83.7 kWh      2.8 sec  260 km/h  390 km   \n",
       "3  Battery Electric Vehicle |       83.7 kWh      2.9 sec  250 km/h  380 km   \n",
       "4  Battery Electric Vehicle |       200 kWh       3.0 sec  210 km/h  750 km   \n",
       "\n",
       "  Efficiency FastChargeSpeed            Drive  NumberofSeats PriceinGermany  \\\n",
       "0  206 Wh/km        920 km/h  All Wheel Drive              4       €215,000   \n",
       "1  198 Wh/km        680 km/h  All Wheel Drive              7       €116,990   \n",
       "2  215 Wh/km        860 km/h  All Wheel Drive              4       €186,336   \n",
       "3  220 Wh/km        790 km/h  All Wheel Drive              4       €187,746   \n",
       "4  267 Wh/km        710 km/h  All Wheel Drive              7        €75,000   \n",
       "\n",
       "  PriceinUK  \n",
       "0  £189,000  \n",
       "1  £110,980  \n",
       "2  £138,830  \n",
       "3  £139,910  \n",
       "4   £68,000  "
      ]
     },
     "execution_count": 60,
     "metadata": {},
     "output_type": "execute_result"
    }
   ],
   "source": [
    "# Display first 5 rows\n",
    "evs.head()"
   ]
  },
  {
   "cell_type": "code",
   "execution_count": 61,
   "metadata": {},
   "outputs": [
    {
     "data": {
      "text/html": [
       "<div>\n",
       "<style scoped>\n",
       "    .dataframe tbody tr th:only-of-type {\n",
       "        vertical-align: middle;\n",
       "    }\n",
       "\n",
       "    .dataframe tbody tr th {\n",
       "        vertical-align: top;\n",
       "    }\n",
       "\n",
       "    .dataframe thead th {\n",
       "        text-align: right;\n",
       "    }\n",
       "</style>\n",
       "<table border=\"1\" class=\"dataframe\">\n",
       "  <thead>\n",
       "    <tr style=\"text-align: right;\">\n",
       "      <th></th>\n",
       "      <th>Name</th>\n",
       "      <th>Subtitle</th>\n",
       "      <th>Acceleration</th>\n",
       "      <th>TopSpeed</th>\n",
       "      <th>Range</th>\n",
       "      <th>Efficiency</th>\n",
       "      <th>FastChargeSpeed</th>\n",
       "      <th>Drive</th>\n",
       "      <th>NumberofSeats</th>\n",
       "      <th>PriceinGermany</th>\n",
       "      <th>PriceinUK</th>\n",
       "    </tr>\n",
       "  </thead>\n",
       "  <tbody>\n",
       "    <tr>\n",
       "      <th>174</th>\n",
       "      <td>Peugeot e-Traveller Standard 75 kWh</td>\n",
       "      <td>Battery Electric Vehicle |       68 kWh</td>\n",
       "      <td>13.3 sec</td>\n",
       "      <td>130 km/h</td>\n",
       "      <td>270 km</td>\n",
       "      <td>252 Wh/km</td>\n",
       "      <td>290 km/h</td>\n",
       "      <td>Front Wheel Drive</td>\n",
       "      <td>7</td>\n",
       "      <td>€57,440</td>\n",
       "      <td>NaN</td>\n",
       "    </tr>\n",
       "    <tr>\n",
       "      <th>175</th>\n",
       "      <td>Peugeot e-Traveller Long 75 kWh</td>\n",
       "      <td>Battery Electric Vehicle |       68 kWh</td>\n",
       "      <td>13.3 sec</td>\n",
       "      <td>130 km/h</td>\n",
       "      <td>270 km</td>\n",
       "      <td>252 Wh/km</td>\n",
       "      <td>290 km/h</td>\n",
       "      <td>Front Wheel Drive</td>\n",
       "      <td>7</td>\n",
       "      <td>€58,230</td>\n",
       "      <td>NaN</td>\n",
       "    </tr>\n",
       "    <tr>\n",
       "      <th>176</th>\n",
       "      <td>Nissan e-NV200 Evalia</td>\n",
       "      <td>Battery Electric Vehicle |       36 kWh</td>\n",
       "      <td>14.0 sec</td>\n",
       "      <td>123 km/h</td>\n",
       "      <td>165 km</td>\n",
       "      <td>218 Wh/km</td>\n",
       "      <td>170 km/h</td>\n",
       "      <td>Front Wheel Drive</td>\n",
       "      <td>7</td>\n",
       "      <td>€43,433</td>\n",
       "      <td>£30,255</td>\n",
       "    </tr>\n",
       "    <tr>\n",
       "      <th>177</th>\n",
       "      <td>Dacia Spring Electric</td>\n",
       "      <td>Battery Electric Vehicle |       26.8 kWh</td>\n",
       "      <td>15.0 sec</td>\n",
       "      <td>125 km/h</td>\n",
       "      <td>170 km</td>\n",
       "      <td>158 Wh/km</td>\n",
       "      <td>120 km/h</td>\n",
       "      <td>Front Wheel Drive</td>\n",
       "      <td>4</td>\n",
       "      <td>€20,490</td>\n",
       "      <td>NaN</td>\n",
       "    </tr>\n",
       "    <tr>\n",
       "      <th>178</th>\n",
       "      <td>Renault Kangoo Maxi ZE 33</td>\n",
       "      <td>Battery Electric Vehicle |       31 kWh</td>\n",
       "      <td>22.4 sec</td>\n",
       "      <td>130 km/h</td>\n",
       "      <td>160 km</td>\n",
       "      <td>194 Wh/km</td>\n",
       "      <td>-</td>\n",
       "      <td>Front Wheel Drive</td>\n",
       "      <td>5</td>\n",
       "      <td>NaN</td>\n",
       "      <td>£31,680</td>\n",
       "    </tr>\n",
       "  </tbody>\n",
       "</table>\n",
       "</div>"
      ],
      "text/plain": [
       "                                    Name  \\\n",
       "174  Peugeot e-Traveller Standard 75 kWh   \n",
       "175      Peugeot e-Traveller Long 75 kWh   \n",
       "176               Nissan e-NV200 Evalia    \n",
       "177                Dacia Spring Electric   \n",
       "178            Renault Kangoo Maxi ZE 33   \n",
       "\n",
       "                                       Subtitle Acceleration  TopSpeed  \\\n",
       "174    Battery Electric Vehicle |       68 kWh      13.3 sec  130 km/h   \n",
       "175    Battery Electric Vehicle |       68 kWh      13.3 sec  130 km/h   \n",
       "176    Battery Electric Vehicle |       36 kWh      14.0 sec  123 km/h   \n",
       "177  Battery Electric Vehicle |       26.8 kWh      15.0 sec  125 km/h   \n",
       "178    Battery Electric Vehicle |       31 kWh      22.4 sec  130 km/h   \n",
       "\n",
       "      Range Efficiency FastChargeSpeed              Drive  NumberofSeats  \\\n",
       "174  270 km  252 Wh/km        290 km/h  Front Wheel Drive              7   \n",
       "175  270 km  252 Wh/km        290 km/h  Front Wheel Drive              7   \n",
       "176  165 km  218 Wh/km        170 km/h  Front Wheel Drive              7   \n",
       "177  170 km  158 Wh/km        120 km/h  Front Wheel Drive              4   \n",
       "178  160 km  194 Wh/km               -  Front Wheel Drive              5   \n",
       "\n",
       "    PriceinGermany PriceinUK  \n",
       "174        €57,440       NaN  \n",
       "175        €58,230       NaN  \n",
       "176        €43,433   £30,255  \n",
       "177        €20,490       NaN  \n",
       "178            NaN   £31,680  "
      ]
     },
     "execution_count": 61,
     "metadata": {},
     "output_type": "execute_result"
    }
   ],
   "source": [
    "# Display last 5 rows\n",
    "evs.tail()"
   ]
  },
  {
   "cell_type": "markdown",
   "metadata": {},
   "source": [
    "### Section 3: Describe"
   ]
  },
  {
   "cell_type": "code",
   "execution_count": 62,
   "metadata": {},
   "outputs": [
    {
     "data": {
      "text/html": [
       "<div>\n",
       "<style scoped>\n",
       "    .dataframe tbody tr th:only-of-type {\n",
       "        vertical-align: middle;\n",
       "    }\n",
       "\n",
       "    .dataframe tbody tr th {\n",
       "        vertical-align: top;\n",
       "    }\n",
       "\n",
       "    .dataframe thead th {\n",
       "        text-align: right;\n",
       "    }\n",
       "</style>\n",
       "<table border=\"1\" class=\"dataframe\">\n",
       "  <thead>\n",
       "    <tr style=\"text-align: right;\">\n",
       "      <th></th>\n",
       "      <th>NumberofSeats</th>\n",
       "    </tr>\n",
       "  </thead>\n",
       "  <tbody>\n",
       "    <tr>\n",
       "      <th>count</th>\n",
       "      <td>179.000000</td>\n",
       "    </tr>\n",
       "    <tr>\n",
       "      <th>mean</th>\n",
       "      <td>5.167598</td>\n",
       "    </tr>\n",
       "    <tr>\n",
       "      <th>std</th>\n",
       "      <td>0.974311</td>\n",
       "    </tr>\n",
       "    <tr>\n",
       "      <th>min</th>\n",
       "      <td>2.000000</td>\n",
       "    </tr>\n",
       "    <tr>\n",
       "      <th>25%</th>\n",
       "      <td>5.000000</td>\n",
       "    </tr>\n",
       "    <tr>\n",
       "      <th>50%</th>\n",
       "      <td>5.000000</td>\n",
       "    </tr>\n",
       "    <tr>\n",
       "      <th>75%</th>\n",
       "      <td>5.000000</td>\n",
       "    </tr>\n",
       "    <tr>\n",
       "      <th>max</th>\n",
       "      <td>7.000000</td>\n",
       "    </tr>\n",
       "  </tbody>\n",
       "</table>\n",
       "</div>"
      ],
      "text/plain": [
       "       NumberofSeats\n",
       "count     179.000000\n",
       "mean        5.167598\n",
       "std         0.974311\n",
       "min         2.000000\n",
       "25%         5.000000\n",
       "50%         5.000000\n",
       "75%         5.000000\n",
       "max         7.000000"
      ]
     },
     "execution_count": 62,
     "metadata": {},
     "output_type": "execute_result"
    }
   ],
   "source": [
    "# Use describe() to calculate basic statistics for NUMERICAL data\n",
    "evs.describe()"
   ]
  },
  {
   "cell_type": "markdown",
   "metadata": {},
   "source": [
    "### Section 4: Series"
   ]
  },
  {
   "cell_type": "code",
   "execution_count": 63,
   "metadata": {},
   "outputs": [
    {
     "data": {
      "text/plain": [
       "count                                     179\n",
       "unique                                    173\n",
       "top       Tesla Model 3 Long Range Dual Motor\n",
       "freq                                        2\n",
       "Name: Name, dtype: object"
      ]
     },
     "execution_count": 63,
     "metadata": {},
     "output_type": "execute_result"
    }
   ],
   "source": [
    "# Use describe() to calculate basic statistics for TEXTUAL data\n",
    "#-> Name\n",
    "evs.Name.describe()"
   ]
  },
  {
   "cell_type": "code",
   "execution_count": 64,
   "metadata": {},
   "outputs": [
    {
     "data": {
      "text/plain": [
       "count                                          179\n",
       "unique                                          69\n",
       "top       Battery Electric Vehicle |       45 kWh \n",
       "freq                                            19\n",
       "Name: Subtitle, dtype: object"
      ]
     },
     "execution_count": 64,
     "metadata": {},
     "output_type": "execute_result"
    }
   ],
   "source": [
    "#-> Subtitle\n",
    "evs.Subtitle.describe()"
   ]
  },
  {
   "cell_type": "code",
   "execution_count": 65,
   "metadata": {},
   "outputs": [
    {
     "data": {
      "text/plain": [
       "count          179\n",
       "unique          77\n",
       "top       12.1 sec\n",
       "freq            11\n",
       "Name: Acceleration, dtype: object"
      ]
     },
     "execution_count": 65,
     "metadata": {},
     "output_type": "execute_result"
    }
   ],
   "source": [
    "#-> Acceleration\n",
    "evs.Acceleration.describe()"
   ]
  },
  {
   "cell_type": "code",
   "execution_count": 66,
   "metadata": {},
   "outputs": [
    {
     "data": {
      "text/plain": [
       "count          179\n",
       "unique          34\n",
       "top       160 km/h\n",
       "freq            33\n",
       "Name: TopSpeed, dtype: object"
      ]
     },
     "execution_count": 66,
     "metadata": {},
     "output_type": "execute_result"
    }
   ],
   "source": [
    "#-> Top Speed\n",
    "evs.TopSpeed.describe()"
   ]
  },
  {
   "cell_type": "code",
   "execution_count": 67,
   "metadata": {},
   "outputs": [
    {
     "data": {
      "text/plain": [
       "count        179\n",
       "unique        67\n",
       "top       270 km\n",
       "freq           9\n",
       "Name: Range, dtype: object"
      ]
     },
     "execution_count": 67,
     "metadata": {},
     "output_type": "execute_result"
    }
   ],
   "source": [
    "#-> Range\n",
    "evs.Range.describe()"
   ]
  },
  {
   "cell_type": "code",
   "execution_count": 68,
   "metadata": {},
   "outputs": [
    {
     "data": {
      "text/plain": [
       "count           179\n",
       "unique           80\n",
       "top       252 Wh/km\n",
       "freq              8\n",
       "Name: Efficiency, dtype: object"
      ]
     },
     "execution_count": 68,
     "metadata": {},
     "output_type": "execute_result"
    }
   ],
   "source": [
    "#-> Efficiency\n",
    "evs.Efficiency.describe()"
   ]
  },
  {
   "cell_type": "code",
   "execution_count": 69,
   "metadata": {},
   "outputs": [
    {
     "data": {
      "text/plain": [
       "count          179\n",
       "unique          69\n",
       "top       440 km/h\n",
       "freq             9\n",
       "Name: FastChargeSpeed, dtype: object"
      ]
     },
     "execution_count": 69,
     "metadata": {},
     "output_type": "execute_result"
    }
   ],
   "source": [
    "#-> Fast Charge Speed\n",
    "evs.FastChargeSpeed.describe()"
   ]
  },
  {
   "cell_type": "code",
   "execution_count": 70,
   "metadata": {},
   "outputs": [
    {
     "data": {
      "text/plain": [
       "count                   179\n",
       "unique                    3\n",
       "top       Front Wheel Drive\n",
       "freq                     71\n",
       "Name: Drive, dtype: object"
      ]
     },
     "execution_count": 70,
     "metadata": {},
     "output_type": "execute_result"
    }
   ],
   "source": [
    "#-> Drive\n",
    "evs.Drive.describe()"
   ]
  },
  {
   "cell_type": "code",
   "execution_count": 71,
   "metadata": {},
   "outputs": [
    {
     "data": {
      "text/plain": [
       "count         167\n",
       "unique        150\n",
       "top       €50,000\n",
       "freq            4\n",
       "Name: PriceinGermany, dtype: object"
      ]
     },
     "execution_count": 71,
     "metadata": {},
     "output_type": "execute_result"
    }
   ],
   "source": [
    "#-> Price in Germany\n",
    "evs.PriceinGermany.describe()"
   ]
  },
  {
   "cell_type": "code",
   "execution_count": 72,
   "metadata": {},
   "outputs": [
    {
     "data": {
      "text/plain": [
       "count         135\n",
       "unique        122\n",
       "top       £48,000\n",
       "freq            3\n",
       "Name: PriceinUK, dtype: object"
      ]
     },
     "execution_count": 72,
     "metadata": {},
     "output_type": "execute_result"
    }
   ],
   "source": [
    "#-> Price in UK\n",
    "evs.PriceinUK.describe()"
   ]
  },
  {
   "cell_type": "markdown",
   "metadata": {},
   "source": [
    "### Section 5: Unique"
   ]
  },
  {
   "cell_type": "code",
   "execution_count": 73,
   "metadata": {},
   "outputs": [
    {
     "data": {
      "text/plain": [
       "array(['Tesla Roadster ', 'Tesla Model X Plaid', 'Porsche Taycan Turbo S',\n",
       "       'Porsche Taycan Turbo S Cross Turismo',\n",
       "       'Tesla Cybertruck Tri Motor', 'Lucid Air Grand Touring',\n",
       "       'Tesla Model S Long Range', 'Porsche Taycan Turbo',\n",
       "       'Tesla Model 3 Performance', 'Audi e-tron GT RS',\n",
       "       'Porsche Taycan Turbo Cross Turismo', 'Lucid Air Touring',\n",
       "       'Kia EV6 GT', 'Tesla Model Y Performance',\n",
       "       'Tesla Model X Long Range', 'BMW i4 M50', 'Porsche Taycan 4S',\n",
       "       'Porsche Taycan 4S Plus', 'Audi e-tron GT quattro',\n",
       "       'Porsche Taycan 4S Cross Turismo', 'Lucid Air Pure',\n",
       "       'Mercedes EQS 580 4MATIC', 'Tesla Model 3 Long Range Dual Motor',\n",
       "       'Ford Mustang Mach-E GT', 'Audi e-tron S 55 quattro',\n",
       "       'Audi e-tron S Sportback 55 quattro', 'BMW iX xDrive50',\n",
       "       'Volvo C40 Recharge', 'Polestar 2 Long Range Dual Motor',\n",
       "       'Jaguar I-Pace EV400', 'MG Marvel R Performance',\n",
       "       'Volvo XC40 Recharge Twin Pure Electric',\n",
       "       'Tesla Cybertruck Dual Motor',\n",
       "       'Nissan Ariya e-4ORCE 87kWh Performance',\n",
       "       'Mercedes EQC 400 4MATIC', 'Tesla Model Y Long Range Dual Motor',\n",
       "       'Porsche Taycan 4 Cross Turismo', 'Hyundai IONIQ 5 Project 45',\n",
       "       'Hyundai IONIQ 5 Long Range AWD', 'Porsche Taycan ',\n",
       "       'Porsche Taycan Plus', 'Kia EV6 Long Range AWD',\n",
       "       'Byton M-Byte 95 kWh 4WD', 'Tesla Model 3 Standard Range Plus LFP',\n",
       "       'Tesla Model 3 Standard Range Plus', 'Nissan Ariya e-4ORCE 87kWh',\n",
       "       'Audi e-tron 55 quattro', 'Audi e-tron Sportback 55 quattro',\n",
       "       'BMW i4 eDrive40', 'Ford Mustang Mach-E ER AWD',\n",
       "       'Nissan Ariya e-4ORCE 63kWh', 'Mercedes EQA 350 4MATIC',\n",
       "       'BMW iX xDrive40', 'Hyundai IONIQ 5 Standard Range AWD',\n",
       "       'Skoda Enyaq iV RS', 'Mercedes EQS 450+',\n",
       "       'Audi Q4 e-tron 50 quattro', 'Audi Q4 Sportback e-tron 50 quattro',\n",
       "       'Volkswagen ID.4 GTX', 'Ford Mustang Mach-E SR AWD',\n",
       "       'Mercedes EQB 350 4MATIC', 'CUPRA Born 170 kW - 62 kWh',\n",
       "       'BMW iX3 ', 'Audi e-tron 50 quattro',\n",
       "       'Audi e-tron Sportback 50 quattro', 'Skoda Enyaq iV 80X',\n",
       "       'BMW i3s 120 Ah', 'Ford Mustang Mach-E SR RWD',\n",
       "       'Audi Q4 e-tron 45 quattro', 'Ford Mustang Mach-E ER RWD',\n",
       "       'Tesla Cybertruck Single Motor', 'CUPRA Born 170 kW - 82 kWh',\n",
       "       'Volkswagen ID.3 Pro Performance', 'Opel Ampera-e ',\n",
       "       'Nissan Leaf e+', 'BMW i3 120 Ah', 'Mini Cooper SE ',\n",
       "       'CUPRA Born 150 kW - 62 kWh', 'Hyundai IONIQ 5 Long Range 2WD',\n",
       "       'Polestar 2 Standard Range Single Motor',\n",
       "       'Polestar 2 Long Range Single Motor', 'Nissan Ariya 63kWh',\n",
       "       'Kia EV6 Long Range 2WD', 'Byton M-Byte 72 kWh 2WD',\n",
       "       'Lexus UX 300e', 'Aiways U5 ', 'Byton M-Byte 95 kWh 2WD',\n",
       "       'Nissan Ariya 87kWh', 'MG MG5 EV', 'Mercedes EQA 300 4MATIC',\n",
       "       'MG MG5 EV Long Range', 'Kia e-Niro 64 kWh', 'Kia e-Soul 64 kWh',\n",
       "       'Nissan Leaf ', 'Hyundai Kona Electric 64 kWh',\n",
       "       'Volkswagen ID.3 Pro S', 'MG Marvel R ',\n",
       "       'Renault Megane E-Tech Electric', 'Peugeot e-208 ',\n",
       "       'Opel Corsa-e ', 'MG ZS EV', 'MG MG5 Electric', 'Honda e Advance',\n",
       "       'Volkswagen ID.4 Pro Performance', 'Peugeot e-2008 SUV ',\n",
       "       'Hyundai IONIQ 5 Standard Range 2WD', 'Kia EV6 Standard Range 2WD',\n",
       "       'Audi Q4 e-tron 40', 'Audi Q4 Sportback e-tron 40',\n",
       "       'Volkswagen ID.4 1st', 'Opel Mokka-e ', 'Skoda Enyaq iV 80',\n",
       "       'DS 3 Crossback E-Tense', 'Skoda Enyaq iV 60', 'Seres 3 ',\n",
       "       'Volkswagen ID.3 Pure Performance', 'Mercedes EQA 250',\n",
       "       'CUPRA Born 110 kW - 55 kWh', 'Fiat 500e Hatchback 42 kWh',\n",
       "       'Audi Q4 Sportback e-tron 35', 'Fiat 500e 3+1', 'Sono Sion ',\n",
       "       'Volkswagen ID.4 Pure Performance', 'Honda e ',\n",
       "       'Audi Q4 e-tron 35', 'Fiat 500e Cabrio',\n",
       "       'Fiat 500e Hatchback 24 kWh', 'Renault Zoe ZE50 R135',\n",
       "       'Volkswagen ID.3 Pro', 'Citroen e-C4 ', 'Hyundai IONIQ Electric',\n",
       "       'Mazda MX-30 ', 'Kia e-Niro 39 kWh', 'Kia e-Soul 39 kWh',\n",
       "       'Hyundai Kona Electric 39 kWh', 'Lightyear One ',\n",
       "       'Volkswagen ID.4 Pure', 'Skoda Enyaq iV 50',\n",
       "       'Renault Zoe ZE50 R110', 'Renault Zoe ZE40 R110',\n",
       "       'Smart EQ fortwo coupe', 'Peugeot e-Rifter Standard 50 kWh',\n",
       "       'Peugeot e-Rifter Long 50 kWh', 'Volkswagen e-Up! ',\n",
       "       'Smart EQ fortwo cabrio', 'JAC iEV7s ',\n",
       "       'Mercedes EQV 300 Extra-Long', 'Citroen e-SpaceTourer XS 50 kWh',\n",
       "       'Citroen e-SpaceTourer M 50 kWh',\n",
       "       'Citroen e-SpaceTourer XL 50 kWh', 'Opel Zafira-e Life S 50 kWh',\n",
       "       'Opel Zafira-e Life M 50 kWh', 'Opel Zafira-e Life L 50 kWh',\n",
       "       'Peugeot e-Traveller Compact 50 kWh', 'Mercedes EQV 300 Long',\n",
       "       'Toyota PROACE Verso M 50 kWh', 'Toyota PROACE Verso L 50 kWh',\n",
       "       'SEAT Mii Electric ', 'Renault Twingo Electric',\n",
       "       'Smart EQ forfour ', 'Peugeot e-Traveller Standard 50 kWh',\n",
       "       'Peugeot e-Traveller Long 50 kWh', 'Toyota PROACE Verso M 75 kWh',\n",
       "       'Toyota PROACE Verso L 75 kWh', 'Citroen e-SpaceTourer M 75 kWh',\n",
       "       'Citroen e-SpaceTourer XL 75 kWh', 'Opel Zafira-e Life M 75 kWh',\n",
       "       'Opel Zafira-e Life L 75 kWh',\n",
       "       'Peugeot e-Traveller Standard 75 kWh',\n",
       "       'Peugeot e-Traveller Long 75 kWh', 'Nissan e-NV200 Evalia ',\n",
       "       'Dacia Spring Electric', 'Renault Kangoo Maxi ZE 33'], dtype=object)"
      ]
     },
     "execution_count": 73,
     "metadata": {},
     "output_type": "execute_result"
    }
   ],
   "source": [
    "# Use unique() to get unique category values\n",
    "#-> Name\n",
    "evs.Name.unique()"
   ]
  },
  {
   "cell_type": "code",
   "execution_count": 74,
   "metadata": {},
   "outputs": [
    {
     "data": {
      "text/plain": [
       "array(['Battery Electric Vehicle |       200 kWh ',\n",
       "       'Battery Electric Vehicle |       90 kWh ',\n",
       "       'Battery Electric Vehicle |       83.7 kWh',\n",
       "       'Battery Electric Vehicle |       110 kWh ',\n",
       "       'Battery Electric Vehicle |       76 kWh ',\n",
       "       'Battery Electric Vehicle |       85 kWh',\n",
       "       'Battery Electric Vehicle |       85 kWh ',\n",
       "       'Battery Electric Vehicle |       77.4 kWh ',\n",
       "       'Battery Electric Vehicle |       80.7 kWh',\n",
       "       'Battery Electric Vehicle |       71 kWh',\n",
       "       'Battery Electric Vehicle |       107.8 kWh',\n",
       "       'Battery Electric Vehicle |       70 kWh ',\n",
       "       'Battery Electric Vehicle |       88 kWh',\n",
       "       'Battery Electric Vehicle |       86.5 kWh',\n",
       "       'Battery Electric Vehicle |       105.2 kWh',\n",
       "       'Battery Electric Vehicle |       75 kWh',\n",
       "       'Battery Electric Vehicle |       75 kWh ',\n",
       "       'Battery Electric Vehicle |       84.7 kWh',\n",
       "       'Battery Electric Vehicle |       65 kWh ',\n",
       "       'Battery Electric Vehicle |       120 kWh ',\n",
       "       'Battery Electric Vehicle |       87 kWh',\n",
       "       'Battery Electric Vehicle |       80 kWh',\n",
       "       'Battery Electric Vehicle |       72.6 kWh ',\n",
       "       'Battery Electric Vehicle |       95 kWh ',\n",
       "       'Battery Electric Vehicle |       51 kWh ',\n",
       "       'Battery Electric Vehicle |       50 kWh ',\n",
       "       'Battery Electric Vehicle |       63 kWh',\n",
       "       'Battery Electric Vehicle |       66.5 kWh',\n",
       "       'Battery Electric Vehicle |       58 kWh ',\n",
       "       'Battery Electric Vehicle |       77 kWh',\n",
       "       'Battery Electric Vehicle |       76.6 kWh',\n",
       "       'Battery Electric Vehicle |       68 kWh',\n",
       "       'Battery Electric Vehicle |       58 kWh',\n",
       "       'Battery Electric Vehicle |       74 kWh',\n",
       "       'Battery Electric Vehicle |       64.7 kWh',\n",
       "       'Battery Electric Vehicle |       37.9 kWh',\n",
       "       'Battery Electric Vehicle |       100 kWh ',\n",
       "       'Battery Electric Vehicle |       56 kWh ',\n",
       "       'Battery Electric Vehicle |       28.9 kWh',\n",
       "       'Battery Electric Vehicle |       61 kWh ',\n",
       "       'Battery Electric Vehicle |       72 kWh ',\n",
       "       'Battery Electric Vehicle |       63 kWh ',\n",
       "       'Battery Electric Vehicle |       48.8 kWh',\n",
       "       'Battery Electric Vehicle |       57 kWh ',\n",
       "       'Battery Electric Vehicle |       64 kWh',\n",
       "       'Battery Electric Vehicle |       36 kWh ',\n",
       "       'Battery Electric Vehicle |       60 kWh ',\n",
       "       'Battery Electric Vehicle |       45 kWh ',\n",
       "       'Battery Electric Vehicle |       42.5 kWh ',\n",
       "       'Battery Electric Vehicle |       28.5 kWh ',\n",
       "       'Battery Electric Vehicle |       52 kWh ',\n",
       "       'Battery Electric Vehicle |       45 kWh',\n",
       "       'Battery Electric Vehicle |       37.3 kWh ',\n",
       "       'Battery Electric Vehicle |       51.5 kWh',\n",
       "       'Battery Electric Vehicle |       47 kWh ',\n",
       "       'Battery Electric Vehicle |       52 kWh',\n",
       "       'Battery Electric Vehicle |       23.8 kWh ',\n",
       "       'Battery Electric Vehicle |       38.3 kWh',\n",
       "       'Battery Electric Vehicle |       30 kWh ',\n",
       "       'Battery Electric Vehicle |       39.2 kWh',\n",
       "       'Battery Electric Vehicle |       41 kWh',\n",
       "       'Battery Electric Vehicle |       16.7 kWh ',\n",
       "       'Battery Electric Vehicle |       32.3 kWh',\n",
       "       'Battery Electric Vehicle |       39 kWh',\n",
       "       'Battery Electric Vehicle |       90 kWh',\n",
       "       'Battery Electric Vehicle |       21.3 kWh',\n",
       "       'Battery Electric Vehicle |       68 kWh ',\n",
       "       'Battery Electric Vehicle |       26.8 kWh ',\n",
       "       'Battery Electric Vehicle |       31 kWh '], dtype=object)"
      ]
     },
     "execution_count": 74,
     "metadata": {},
     "output_type": "execute_result"
    }
   ],
   "source": [
    "#-> Subtitle\n",
    "evs.Subtitle.unique()"
   ]
  },
  {
   "cell_type": "code",
   "execution_count": 75,
   "metadata": {},
   "outputs": [
    {
     "data": {
      "text/plain": [
       "array(['2.1 sec', '2.6 sec', '2.8 sec', '2.9 sec', '3.0 sec', '3.2 sec',\n",
       "       '3.3 sec', '3.4 sec', '3.5 sec', '3.7 sec', '3.9 sec', '4.0 sec',\n",
       "       '4.1 sec', '4.2 sec', '4.3 sec', '4.4 sec', '4.5 sec', '4.6 sec',\n",
       "       '4.7 sec', '4.8 sec', '4.9 sec', '5.0 sec', '5.1 sec', '5.2 sec',\n",
       "       '5.4 sec', '5.5 sec', '5.6 sec', '5.7 sec', '5.8 sec', '5.9 sec',\n",
       "       '6.0 sec', '6.1 sec', '6.2 sec', '6.3 sec', '6.5 sec', '6.6 sec',\n",
       "       '6.8 sec', '6.9 sec', '7.0 sec', '7.3 sec', '7.4 sec', '7.5 sec',\n",
       "       '7.6 sec', '7.7 sec', '7.8 sec', '7.9 sec', '8.0 sec', '8.1 sec',\n",
       "       '8.2 sec', '8.3 sec', '8.5 sec', '8.6 sec', '8.7 sec', '8.9 sec',\n",
       "       '9.0 sec', '9.5 sec', '9.6 sec', '9.7 sec', '9.8 sec', '9.9 sec',\n",
       "       '10.0 sec', '10.9 sec', '11.3 sec', '11.4 sec', '11.6 sec',\n",
       "       '11.7 sec', '11.9 sec', '12.0 sec', '12.1 sec', '12.3 sec',\n",
       "       '12.6 sec', '12.7 sec', '13.1 sec', '13.3 sec', '14.0 sec',\n",
       "       '15.0 sec', '22.4 sec'], dtype=object)"
      ]
     },
     "execution_count": 75,
     "metadata": {},
     "output_type": "execute_result"
    }
   ],
   "source": [
    "#-> Acceleration\n",
    "evs.Acceleration.unique()"
   ]
  },
  {
   "cell_type": "code",
   "execution_count": 76,
   "metadata": {},
   "outputs": [
    {
     "data": {
      "text/plain": [
       "array(['410 km/h', '262 km/h', '260 km/h', '250 km/h', '210 km/h',\n",
       "       '270 km/h', '261 km/h', '241 km/h', '225 km/h', '245 km/h',\n",
       "       '240 km/h', '200 km/h', '233 km/h', '180 km/h', '205 km/h',\n",
       "       '190 km/h', '217 km/h', '220 km/h', '185 km/h', '230 km/h',\n",
       "       '160 km/h', '150 km/h', '157 km/h', '167 km/h', '144 km/h',\n",
       "       '140 km/h', '145 km/h', '155 km/h', '135 km/h', '165 km/h',\n",
       "       '130 km/h', '132 km/h', '123 km/h', '125 km/h'], dtype=object)"
      ]
     },
     "execution_count": 76,
     "metadata": {},
     "output_type": "execute_result"
    }
   ],
   "source": [
    "#-> Top Speed\n",
    "evs.TopSpeed.unique()"
   ]
  },
  {
   "cell_type": "code",
   "execution_count": 77,
   "metadata": {},
   "outputs": [
    {
     "data": {
      "text/plain": [
       "array(['970 km', '455 km', '390 km', '380 km', '750 km', '660 km',\n",
       "       '555 km', '400 km', '470 km', '405 km', '385 km', '530 km',\n",
       "       '395 km', '430 km', '475 km', '450 km', '375 km', '435 km',\n",
       "       '420 km', '540 km', '610 km', '410 km', '490 km', '320 km',\n",
       "       '335 km', '505 km', '340 km', '365 km', '330 km', '460 km',\n",
       "       '370 km', '325 km', '350 km', '305 km', '640 km', '345 km',\n",
       "       '280 km', '295 km', '230 km', '440 km', '235 km', '185 km',\n",
       "       '425 km', '260 km', '445 km', '220 km', '275 km', '170 km',\n",
       "       '250 km', '310 km', '255 km', '270 km', '355 km', '245 km',\n",
       "       '285 km', '165 km', '575 km', '315 km', '100 km', '200 km',\n",
       "       '195 km', '205 km', '95 km', '225 km', '180 km', '130 km',\n",
       "       '160 km'], dtype=object)"
      ]
     },
     "execution_count": 77,
     "metadata": {},
     "output_type": "execute_result"
    }
   ],
   "source": [
    "#-> Range\n",
    "evs.Range.unique()"
   ]
  },
  {
   "cell_type": "code",
   "execution_count": 78,
   "metadata": {},
   "outputs": [
    {
     "data": {
      "text/plain": [
       "array(['206 Wh/km', '198 Wh/km', '215 Wh/km', '220 Wh/km', '267 Wh/km',\n",
       "       '167 Wh/km', '162 Wh/km', '209 Wh/km', '210 Wh/km', '217 Wh/km',\n",
       "       '160 Wh/km', '196 Wh/km', '177 Wh/km', '189 Wh/km', '179 Wh/km',\n",
       "       '192 Wh/km', '202 Wh/km', '207 Wh/km', '157 Wh/km', '154 Wh/km',\n",
       "       '155 Wh/km', '270 Wh/km', '258 Wh/km', '208 Wh/km', '221 Wh/km',\n",
       "       '190 Wh/km', '232 Wh/km', '197 Wh/km', '261 Wh/km', '226 Wh/km',\n",
       "       '216 Wh/km', '169 Wh/km', '194 Wh/km', '180 Wh/km', '182 Wh/km',\n",
       "       '244 Wh/km', '150 Wh/km', '147 Wh/km', '237 Wh/km', '231 Wh/km',\n",
       "       '170 Wh/km', '203 Wh/km', '195 Wh/km', '168 Wh/km', '199 Wh/km',\n",
       "       '193 Wh/km', '219 Wh/km', '165 Wh/km', '200 Wh/km', '256 Wh/km',\n",
       "       '171 Wh/km', '166 Wh/km', '173 Wh/km', '172 Wh/km', '161 Wh/km',\n",
       "       '156 Wh/km', '174 Wh/km', '176 Wh/km', '188 Wh/km', '184 Wh/km',\n",
       "       '222 Wh/km', '238 Wh/km', '164 Wh/km', '191 Wh/km', '187 Wh/km',\n",
       "       '181 Wh/km', '183 Wh/km', '149 Wh/km', '175 Wh/km', '152 Wh/km',\n",
       "       '144 Wh/km', '153 Wh/km', '104 Wh/km', '225 Wh/km', '158 Wh/km',\n",
       "       '281 Wh/km', '243 Wh/km', '250 Wh/km', '252 Wh/km', '218 Wh/km'],\n",
       "      dtype=object)"
      ]
     },
     "execution_count": 78,
     "metadata": {},
     "output_type": "execute_result"
    }
   ],
   "source": [
    "#-> Efficiency\n",
    "evs.Efficiency.unique()"
   ]
  },
  {
   "cell_type": "code",
   "execution_count": 79,
   "metadata": {},
   "outputs": [
    {
     "data": {
      "text/plain": [
       "array(['920 km/h', '680 km/h', '860 km/h', '790 km/h', '710 km/h',\n",
       "       '1380 km/h', '830 km/h', '840 km/h', '810 km/h', '800 km/h',\n",
       "       '1390 km/h', '720 km/h', '630 km/h', '750 km/h', '910 km/h',\n",
       "       '850 km/h', '1410 km/h', '570 km/h', '400 km/h', '820 km/h',\n",
       "       '510 km/h', '540 km/h', '620 km/h', '440 km/h', '340 km/h',\n",
       "       '380 km/h', '460 km/h', '870 km/h', '960 km/h', '950 km/h',\n",
       "       '500 km/h', '590 km/h', '600 km/h', '660 km/h', '410 km/h',\n",
       "       '420 km/h', '470 km/h', '480 km/h', '490 km/h', '360 km/h',\n",
       "       '430 km/h', '520 km/h', '260 km/h', '740 km/h', '550 km/h',\n",
       "       '210 km/h', '390 km/h', '270 km/h', '890 km/h', '450 km/h',\n",
       "       '980 km/h', '150 km/h', '350 km/h', '530 km/h', '230 km/h',\n",
       "       '370 km/h', '190 km/h', '330 km/h', '310 km/h', '220 km/h',\n",
       "       '180 km/h', '240 km/h', '-', '170 km/h', '160 km/h', '280 km/h',\n",
       "       '250 km/h', '290 km/h', '120 km/h'], dtype=object)"
      ]
     },
     "execution_count": 79,
     "metadata": {},
     "output_type": "execute_result"
    }
   ],
   "source": [
    "#-> Fast Charge Speed\n",
    "evs.FastChargeSpeed.unique()"
   ]
  },
  {
   "cell_type": "code",
   "execution_count": 80,
   "metadata": {},
   "outputs": [
    {
     "data": {
      "text/plain": [
       "array(['All Wheel Drive', 'Rear Wheel Drive', 'Front Wheel Drive'],\n",
       "      dtype=object)"
      ]
     },
     "execution_count": 80,
     "metadata": {},
     "output_type": "execute_result"
    }
   ],
   "source": [
    "#-> Drive\n",
    "evs.Drive.unique()"
   ]
  },
  {
   "cell_type": "code",
   "execution_count": 81,
   "metadata": {},
   "outputs": [
    {
     "data": {
      "text/plain": [
       "array([4, 7, 5, 2], dtype=int64)"
      ]
     },
     "execution_count": 81,
     "metadata": {},
     "output_type": "execute_result"
    }
   ],
   "source": [
    "#-> Number of Seats\n",
    "evs.NumberofSeats.unique()"
   ]
  },
  {
   "cell_type": "code",
   "execution_count": 82,
   "metadata": {},
   "outputs": [
    {
     "data": {
      "text/plain": [
       "array(['€215,000', '€116,990', '€186,336', '€187,746', '€75,000',\n",
       "       '€140,000', '€86,990', '€153,016', '€58,560', '€138,200',\n",
       "       '€154,444', '€95,000', '€65,990', '€66,965', '€95,990', '€69,900',\n",
       "       '€106,487', '€113,008', '€99,800', '€111,842', '€80,000',\n",
       "       '€135,529', nan, '€53,560', '€93,800', '€96,050', '€98,000',\n",
       "       '€62,050', '€52,500', '€77,300', '€50,000', '€59,250', '€55,000',\n",
       "       '€65,000', '€66,069', '€59,965', '€93,635', '€59,550', '€48,900',\n",
       "       '€83,520', '€89,244', '€56,000', '€64,000', '€43,560', '€57,500',\n",
       "       '€81,500', '€83,750', '€58,300', '€62,900', '€56,216', '€45,700',\n",
       "       '€106,374', '€53,600', '€55,600', '€50,415', '€54,000', '€60,000',\n",
       "       '€39,000', '€66,300', '€69,100', '€71,350', '€47,000', '€42,600',\n",
       "       '€46,900', '€50,900', '€54,475', '€45,000', '€43,000', '€36,495',\n",
       "       '€42,990', '€38,350', '€32,500', '€36,770', '€45,100', '€46,500',\n",
       "       '€49,500', '€54,990', '€53,500', '€47,550', '€35,993', '€62,000',\n",
       "       '€53,538', '€39,090', '€37,790', '€29,990', '€41,850', '€41,995',\n",
       "       '€40,000', '€38,000', '€30,450', '€29,000', '€31,990', '€35,000',\n",
       "       '€44,450', '€35,450', '€41,900', '€44,990', '€47,500', '€34,110',\n",
       "       '€43,950', '€30,040', '€38,850', '€31,960', '€47,541', '€32,700',\n",
       "       '€27,560', '€43,900', '€29,560', '€25,500', '€38,450', '€33,850',\n",
       "       '€30,560', '€23,560', '€33,990', '€34,995', '€34,640', '€35,350',\n",
       "       '€34,490', '€35,290', '€35,650', '€34,850', '€149,000', '€36,950',\n",
       "       '€33,800', '€18,460', '€37,590', '€42,590', '€21,720', '€72,281',\n",
       "       '€50,880', '€51,440', '€52,230', '€56,700', '€53,800', '€54,625',\n",
       "       '€71,388', '€58,530', '€59,385', '€24,650', '€24,790', '€19,120',\n",
       "       '€55,900', '€56,690', '€64,530', '€65,385', '€57,440', '€58,230',\n",
       "       '€59,800', '€60,625', '€43,433', '€20,490'], dtype=object)"
      ]
     },
     "execution_count": 82,
     "metadata": {},
     "output_type": "execute_result"
    }
   ],
   "source": [
    "#-> Price in Germany\n",
    "evs.PriceinGermany.unique()"
   ]
  },
  {
   "cell_type": "code",
   "execution_count": 83,
   "metadata": {},
   "outputs": [
    {
     "data": {
      "text/plain": [
       "array(['£189,000', '£110,980', '£138,830', '£139,910', '£68,000',\n",
       "       '£125,000', '£83,980', '£115,860', '£59,990', '£110,950',\n",
       "       '£116,950', '£90,000', '£58,295', '£60,000', '£90,980', '£63,905',\n",
       "       '£83,580', '£88,193', '£79,900', '£87,820', '£70,000', '£115,000',\n",
       "       '£48,490', '£67,225', nan, '£87,000', '£88,700', '£91,905',\n",
       "       '£57,400', '£45,900', '£65,195', '£49,950', '£48,000', '£57,500',\n",
       "       '£65,720', '£54,000', '£79,340', '£45,145', '£70,690', '£74,739',\n",
       "       '£52,000', '£40,990', '£52,500', '£51,905', '£71,500', '£57,030',\n",
       "       '£45,000', '£69,905', '£95,000', '£51,370', '£52,870', '£55,540',\n",
       "       '£46,650', '£50,000', '£31,500', '£58,850', '£60,600', '£69,100',\n",
       "       '£42,000', '£32,305', '£41,330', '£49,980', '£39,000', '£29,740',\n",
       "       '£30,445', '£31,305', '£26,000', '£30,500', '£41,945', '£39,900',\n",
       "       '£42,900', '£40,000', '£43,900', '£25,095', '£26,495', '£32,445',\n",
       "       '£25,995', '£37,545', '£32,550', '£38,800', '£32,500', '£27,225',\n",
       "       '£27,140', '£30,160', '£41,570', '£30,730', '£36,995', '£40,985',\n",
       "       '£44,990', '£40,800', '£30,540', '£39,350', '£31,995', '£27,120',\n",
       "       '£43,495', '£28,500', '£23,995', '£42,250', '£36,030', '£27,660',\n",
       "       '£40,750', '£26,645', '£20,495', '£28,795', '£28,420', '£30,895',\n",
       "       '£30,550', '£26,045', '£30,345', '£27,950', '£32,150', '£26,795',\n",
       "       '£19,200', '£30,375', '£32,455', '£21,620', '£49,465', '£70,665',\n",
       "       '£19,795', '£49,065', '£49,905', '£30,255', '£31,680'],\n",
       "      dtype=object)"
      ]
     },
     "execution_count": 83,
     "metadata": {},
     "output_type": "execute_result"
    }
   ],
   "source": [
    "#-> Price in UK\n",
    "evs.PriceinUK.unique()"
   ]
  },
  {
   "cell_type": "markdown",
   "metadata": {},
   "source": [
    "### Section 6: Histograms"
   ]
  },
  {
   "cell_type": "code",
   "execution_count": 84,
   "metadata": {},
   "outputs": [
    {
     "data": {
      "image/png": "[encoded data removed]",
      "text/plain": [
       "<Figure size 640x480 with 1 Axes>"
      ]
     },
     "metadata": {},
     "output_type": "display_data"
    }
   ],
   "source": [
    "# Use hist() to create histograms for each NUMERICAL data column\n",
    "\n",
    "#-> Open Matplotlib\n",
    "%matplotlib inline\n",
    "\n",
    "#-> Create histograms\n",
    "histogram = evs.hist()"
   ]
  },
  {
   "cell_type": "markdown",
   "metadata": {},
   "source": [
    "### Section 7: List"
   ]
  },
  {
   "cell_type": "code",
   "execution_count": 85,
   "metadata": {},
   "outputs": [],
   "source": [
    "# Get some of the information into a list\n",
    "list_range = list(evs.Range)"
   ]
  },
  {
   "cell_type": "code",
   "execution_count": 86,
   "metadata": {},
   "outputs": [],
   "source": [
    "# Process each item in the list\n",
    "#-> Use for loops or comprehensions as you please\n",
    "\n",
    "#-> Range has units built in (km)\n",
    "#--> Remove the units from the data\n",
    "num_range = re.findall(r'\\d+', str(list_range))\n",
    "\n",
    "#--> Cast these values to integers (currently strings)\n",
    "int_range = [int(x) for x in num_range]\n",
    "\n",
    "#-> The same process can be applied to...\n",
    "#   - Subtitle\n",
    "#   - Acceleration\n",
    "#   - TopSpeed\n",
    "#   - Efficiency\n",
    "#   - FastCharge\n",
    "#   - Prices(Germany and UK)\n"
   ]
  },
  {
   "cell_type": "markdown",
   "metadata": {},
   "source": [
    "### Section 8: Filter"
   ]
  },
  {
   "cell_type": "code",
   "execution_count": 87,
   "metadata": {},
   "outputs": [],
   "source": [
    "# Use filter() to show part of the information\n",
    "#-> Find all cars with a range greater than 300 km\n",
    "best_range = list(filter(lambda x: x>=300, int_range))"
   ]
  },
  {
   "cell_type": "markdown",
   "metadata": {},
   "source": [
    "### Section 9: Map"
   ]
  },
  {
   "cell_type": "code",
   "execution_count": 88,
   "metadata": {},
   "outputs": [],
   "source": [
    "# Use map() to transform the data in some way\n",
    "#-> Map the range in kilometers to miles\n",
    "#--> This IS America afterall\n",
    "miles_range = list(map(lambda x: 0.64 * float(x), int_range))"
   ]
  },
  {
   "cell_type": "markdown",
   "metadata": {},
   "source": [
    "### Summary / Findings\n",
    "- Generally speaking, having units listed in the datavalues is not a great idea\n",
    "\n",
    "&emsp;&emsp; -> It means more work inputing datapoints\n",
    "\n",
    "&emsp;&emsp; -> We would have to filter out the numbers anyway\n",
    "\n",
    "&emsp;&emsp; -> Best place to put them is in the title of the column\n",
    "\n",
    "- Out of the 179 cars listed, 111 of them can go over 300 kilometers on a full charge\n",
    "\n",
    "- Out of the 179 cars listed, only 14 have a range of 300 miles or more per full charge"
   ]
  }
 ],
 "metadata": {
  "kernelspec": {
   "display_name": "Python 3",
   "language": "python",
   "name": "python3"
  },
  "language_info": {
   "codemirror_mode": {
    "name": "ipython",
    "version": 3
   },
   "file_extension": ".py",
   "mimetype": "text/x-python",
   "name": "python",
   "nbconvert_exporter": "python",
   "pygments_lexer": "ipython3",
   "version": "3.11.4"
  },
  "orig_nbformat": 4
 },
 "nbformat": 4,
 "nbformat_minor": 2
}
