{
 "cells": [
  {
   "cell_type": "markdown",
   "metadata": {},
   "source": [
    "# Working with Tensorflow\n",
    "Written by [Solomon Stevens](https://github.com/Stone-Snevets/datafun-06-projects)\n",
    "\n",
    "Date: September 29, 2023\n",
    "\n",
    "Domain: Electric Cars\n",
    "\n",
    "Goals: Learn some basic Tensorflow code and apply to current domain"
   ]
  },
  {
   "cell_type": "markdown",
   "metadata": {},
   "source": [
    "## This is a BONUS Section\n",
    "I chose working with Tensorflow as many cites ephasized an importance of it in data science.\n",
    "\n",
    "Overall, it went ok.  Entering this notebook, I knew absolutely NOTHING regarding it.  So there were a few hicups along the way.\n",
    "\n",
    "If I were to have a stronger grasp of Tensorflow, I would probably recommend it, but as of right now, I don't feel I'm in any position to speak for or against it."
   ]
  },
  {
   "cell_type": "markdown",
   "metadata": {},
   "source": [
    "### Install Tensorflow\n",
    "\n",
    "Before we can work with Tensorflow at all, we need to install it.\n",
    "- In a terminal (\"View\" -> \"Terminal\"), I typed in the following command:\n",
    "```shell\n",
    "python -m pip install --upgrade tensorflow\n",
    "```\n",
    "\n",
    "We now should be good to go."
   ]
  },
  {
   "cell_type": "code",
   "execution_count": 1,
   "metadata": {},
   "outputs": [],
   "source": [
    "# Imports\n",
    "import pandas as pd\n",
    "import tensorflow as tf"
   ]
  },
  {
   "cell_type": "markdown",
   "metadata": {},
   "source": [
    "### Read in Data File\n",
    "Use pandas to read in a csv file with information regarding Electric Cars"
   ]
  },
  {
   "cell_type": "code",
   "execution_count": 2,
   "metadata": {},
   "outputs": [
    {
     "data": {
      "text/html": [
       "<div>\n",
       "<style scoped>\n",
       "    .dataframe tbody tr th:only-of-type {\n",
       "        vertical-align: middle;\n",
       "    }\n",
       "\n",
       "    .dataframe tbody tr th {\n",
       "        vertical-align: top;\n",
       "    }\n",
       "\n",
       "    .dataframe thead th {\n",
       "        text-align: right;\n",
       "    }\n",
       "</style>\n",
       "<table border=\"1\" class=\"dataframe\">\n",
       "  <thead>\n",
       "    <tr style=\"text-align: right;\">\n",
       "      <th></th>\n",
       "      <th>Name</th>\n",
       "      <th>Subtitle</th>\n",
       "      <th>Acceleration</th>\n",
       "      <th>TopSpeed</th>\n",
       "      <th>Range</th>\n",
       "      <th>Efficiency</th>\n",
       "      <th>FastChargeSpeed</th>\n",
       "      <th>Drive</th>\n",
       "      <th>NumberofSeats</th>\n",
       "      <th>PriceinGermany</th>\n",
       "      <th>PriceinUK</th>\n",
       "    </tr>\n",
       "  </thead>\n",
       "  <tbody>\n",
       "    <tr>\n",
       "      <th>0</th>\n",
       "      <td>Tesla Roadster</td>\n",
       "      <td>Battery Electric Vehicle |       200 kWh</td>\n",
       "      <td>2.1 sec</td>\n",
       "      <td>410 km/h</td>\n",
       "      <td>970 km</td>\n",
       "      <td>206 Wh/km</td>\n",
       "      <td>920 km/h</td>\n",
       "      <td>All Wheel Drive</td>\n",
       "      <td>4</td>\n",
       "      <td>€215,000</td>\n",
       "      <td>£189,000</td>\n",
       "    </tr>\n",
       "    <tr>\n",
       "      <th>1</th>\n",
       "      <td>Tesla Model X Plaid</td>\n",
       "      <td>Battery Electric Vehicle |       90 kWh</td>\n",
       "      <td>2.6 sec</td>\n",
       "      <td>262 km/h</td>\n",
       "      <td>455 km</td>\n",
       "      <td>198 Wh/km</td>\n",
       "      <td>680 km/h</td>\n",
       "      <td>All Wheel Drive</td>\n",
       "      <td>7</td>\n",
       "      <td>€116,990</td>\n",
       "      <td>£110,980</td>\n",
       "    </tr>\n",
       "    <tr>\n",
       "      <th>2</th>\n",
       "      <td>Porsche Taycan Turbo S</td>\n",
       "      <td>Battery Electric Vehicle |       83.7 kWh</td>\n",
       "      <td>2.8 sec</td>\n",
       "      <td>260 km/h</td>\n",
       "      <td>390 km</td>\n",
       "      <td>215 Wh/km</td>\n",
       "      <td>860 km/h</td>\n",
       "      <td>All Wheel Drive</td>\n",
       "      <td>4</td>\n",
       "      <td>€186,336</td>\n",
       "      <td>£138,830</td>\n",
       "    </tr>\n",
       "    <tr>\n",
       "      <th>3</th>\n",
       "      <td>Porsche Taycan Turbo S Cross Turismo</td>\n",
       "      <td>Battery Electric Vehicle |       83.7 kWh</td>\n",
       "      <td>2.9 sec</td>\n",
       "      <td>250 km/h</td>\n",
       "      <td>380 km</td>\n",
       "      <td>220 Wh/km</td>\n",
       "      <td>790 km/h</td>\n",
       "      <td>All Wheel Drive</td>\n",
       "      <td>4</td>\n",
       "      <td>€187,746</td>\n",
       "      <td>£139,910</td>\n",
       "    </tr>\n",
       "    <tr>\n",
       "      <th>4</th>\n",
       "      <td>Tesla Cybertruck Tri Motor</td>\n",
       "      <td>Battery Electric Vehicle |       200 kWh</td>\n",
       "      <td>3.0 sec</td>\n",
       "      <td>210 km/h</td>\n",
       "      <td>750 km</td>\n",
       "      <td>267 Wh/km</td>\n",
       "      <td>710 km/h</td>\n",
       "      <td>All Wheel Drive</td>\n",
       "      <td>7</td>\n",
       "      <td>€75,000</td>\n",
       "      <td>£68,000</td>\n",
       "    </tr>\n",
       "  </tbody>\n",
       "</table>\n",
       "</div>"
      ],
      "text/plain": [
       "                                   Name  \\\n",
       "0                       Tesla Roadster    \n",
       "1                   Tesla Model X Plaid   \n",
       "2                Porsche Taycan Turbo S   \n",
       "3  Porsche Taycan Turbo S Cross Turismo   \n",
       "4            Tesla Cybertruck Tri Motor   \n",
       "\n",
       "                                    Subtitle Acceleration  TopSpeed   Range  \\\n",
       "0  Battery Electric Vehicle |       200 kWh       2.1 sec  410 km/h  970 km   \n",
       "1   Battery Electric Vehicle |       90 kWh       2.6 sec  262 km/h  455 km   \n",
       "2  Battery Electric Vehicle |       83.7 kWh      2.8 sec  260 km/h  390 km   \n",
       "3  Battery Electric Vehicle |       83.7 kWh      2.9 sec  250 km/h  380 km   \n",
       "4  Battery Electric Vehicle |       200 kWh       3.0 sec  210 km/h  750 km   \n",
       "\n",
       "  Efficiency FastChargeSpeed            Drive  NumberofSeats PriceinGermany  \\\n",
       "0  206 Wh/km        920 km/h  All Wheel Drive              4       €215,000   \n",
       "1  198 Wh/km        680 km/h  All Wheel Drive              7       €116,990   \n",
       "2  215 Wh/km        860 km/h  All Wheel Drive              4       €186,336   \n",
       "3  220 Wh/km        790 km/h  All Wheel Drive              4       €187,746   \n",
       "4  267 Wh/km        710 km/h  All Wheel Drive              7        €75,000   \n",
       "\n",
       "  PriceinUK  \n",
       "0  £189,000  \n",
       "1  £110,980  \n",
       "2  £138,830  \n",
       "3  £139,910  \n",
       "4   £68,000  "
      ]
     },
     "execution_count": 2,
     "metadata": {},
     "output_type": "execute_result"
    }
   ],
   "source": [
    "evs = pd.read_csv('Quickestelectriccars-EVDatabase.csv')\n",
    "\n",
    "# Confirm data read in using head()\n",
    "evs.head()"
   ]
  },
  {
   "cell_type": "markdown",
   "metadata": {},
   "source": [
    "### Create a list to work with\n",
    "Using \"Name\" and \"Range\""
   ]
  },
  {
   "cell_type": "code",
   "execution_count": 3,
   "metadata": {},
   "outputs": [],
   "source": [
    "# Create a list of columns to use\n",
    "cols = ['Name', 'Range']\n",
    "\n",
    "# Create a list out of these columns using tolist()\n",
    "evs_name_range = evs[cols].values.tolist()\n"
   ]
  },
  {
   "cell_type": "markdown",
   "metadata": {},
   "source": [
    "### Start Using Tensorflow"
   ]
  },
  {
   "cell_type": "code",
   "execution_count": 4,
   "metadata": {},
   "outputs": [
    {
     "data": {
      "text/plain": [
       "tf.string"
      ]
     },
     "execution_count": 4,
     "metadata": {},
     "output_type": "execute_result"
    }
   ],
   "source": [
    "# Create a tensor(array) with the data in the \"Name\" and \"Range\" columns\n",
    "#-> Make the tensor a string\n",
    "#-> Set the size of our list to a 179x2 matrix\n",
    "evs_t = tf.constant(evs_name_range, dtype = tf.string, shape = (179,2))\n",
    "\n",
    "\n",
    "# We can check that this works by checking the datatype...\n",
    "evs_t.dtype"
   ]
  },
  {
   "cell_type": "code",
   "execution_count": 5,
   "metadata": {},
   "outputs": [
    {
     "data": {
      "text/plain": [
       "TensorShape([179, 2])"
      ]
     },
     "execution_count": 5,
     "metadata": {},
     "output_type": "execute_result"
    }
   ],
   "source": [
    "# ... and the shape\n",
    "evs_t.shape"
   ]
  },
  {
   "cell_type": "markdown",
   "metadata": {},
   "source": [
    "### Find All Unique Elements"
   ]
  },
  {
   "cell_type": "code",
   "execution_count": 16,
   "metadata": {},
   "outputs": [],
   "source": [
    "# Find a list of all the different names of the cars categorized\n",
    "evs_t_unique_name, id_name, cnt_name = tf.unique_with_counts(evs_t[:, 0])\n",
    "\n",
    "# Fins a list of all the different ranges observed\n",
    "evs_t_unique_range, id_range, cnt_range = tf.unique_with_counts(evs_t[:, 1])"
   ]
  },
  {
   "cell_type": "code",
   "execution_count": 17,
   "metadata": {},
   "outputs": [],
   "source": [
    "# Create a Series consisting of each unique name with it's frequency\n",
    "evs_name_freq = pd.Series(cnt_name, evs_t_unique_name)\n",
    "\n",
    "# Create a Series consisting of each unique range with it's frequency\n",
    "evs_range_freq = pd.Series(cnt_range, evs_t_unique_range)"
   ]
  },
  {
   "cell_type": "markdown",
   "metadata": {},
   "source": [
    "### Findings\n",
    "- There were only six cars that had multiple inputs\n",
    "\n",
    "&emsp;&emsp;-> While showing a broad range of data is important, having only one\n",
    "\n",
    "&emsp;&emsp;&emsp;input for a car carries the risk of that particular one chosen to have\n",
    "\n",
    "&emsp;&emsp;&emsp;an issue of some sort (bad battery, rust, etc.)\n",
    "\n",
    "- Only ten different cars displayed a range over 500 km per full charge\n",
    "\n",
    "- There were nine different cars that had a range of 270 km per full charge\n",
    "\n",
    "&emsp;&emsp;-> There were also nine cars with a range of 185 km per full charge"
   ]
  }
 ],
 "metadata": {
  "kernelspec": {
   "display_name": "Python 3",
   "language": "python",
   "name": "python3"
  },
  "language_info": {
   "codemirror_mode": {
    "name": "ipython",
    "version": 3
   },
   "file_extension": ".py",
   "mimetype": "text/x-python",
   "name": "python",
   "nbconvert_exporter": "python",
   "pygments_lexer": "ipython3",
   "version": "3.11.4"
  },
  "orig_nbformat": 4
 },
 "nbformat": 4,
 "nbformat_minor": 2
}
